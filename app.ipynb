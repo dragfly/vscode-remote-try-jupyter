{
 "nbformat": 4,
 "nbformat_minor": 2,
 "metadata": {
  "language_info": {
   "name": "python",
   "codemirror_mode": {
    "name": "ipython",
    "version": 3
   },
   "version": "3.7.4"
  },
  "orig_nbformat": 2,
  "file_extension": ".py",
  "mimetype": "text/x-python",
  "name": "python",
  "npconvert_exporter": "python",
  "pygments_lexer": "ipython3",
  "version": 3
 },
 "cells": [
  {
   "cell_type": "code",
   "metadata": {},
   "outputs": [],
   "source": [
    "import numpy as np\n",
    "import pandas as pd\n",
    "import matplotlib.pyplot as plt\n",
    "plt.rcParams[\"figure.figsize\"] = (20,10)\n",
    "p = np.linspace(0, 20, 100)\n",
    "plt.plot(p, np.sin(15*p))\n",
    "\n",
    "plt.show()"
   ]
  },
  {
   "cell_type": "code",
   "metadata": {},
   "outputs": [],
   "source": [
    "import pandas as pd\n",
    "import pandas_datareader as pdr\n",
    "v = pdr.get_data_fred('GS10')\n"
   ]
  },
  {
   "cell_type": "code",
   "metadata": {},
   "outputs": [],
   "source": [
    "v"
   ]
  },
  {
   "cell_type": "code",
   "metadata": {},
   "outputs": [],
   "source": [
    "import os\n",
    "import pandas_datareader.data as pdr\n",
    "\n",
    "API_KEY = os.environ['ALPHA_VANTAGE_API_KEY']\n",
    "\n",
    "DATE_START = '2019-01-01'\n",
    "DATE_END = '2019-10-11'\n",
    "SYMBOL = 'AAPL'\n",
    "\n",
    "# We use the 'av-daily' DataReader to download data from AlphaVantage\n",
    "stock = pdr.DataReader(SYMBOL, 'av-daily',\n",
    "                       start=DATE_START,\n",
    "                       end=DATE_END,\n",
    "                       api_key=API_KEY)\n",
    "\n",
    "print(stock)"
   ]
  },
  {
   "cell_type": "code",
   "metadata": {},
   "outputs": [],
   "source": [
    "import hvplot.pandas\n",
    "\n",
    "idx = pd.date_range('1/1/2000', periods=1000)\n",
    "df  = pd.DataFrame(np.random.randn(1000, 4), index=idx, columns=list('ABCD')).cumsum()\n",
    "\n",
    "df.hvplot()"
   ]
  },
  {
   "cell_type": "code",
   "metadata": {},
   "outputs": [],
   "source": [
    "from hvplot.sample_data import us_crime\n",
    "\n",
    "columns = ['Burglary rate', 'Larceny-theft rate', 'Robbery rate', 'Violent Crime rate']\n",
    "us_crime.plot.violin(y=columns, group_label='Type of crime', value_label='Rate per 100k', invert=True)"
   ]
  }
 ]
}